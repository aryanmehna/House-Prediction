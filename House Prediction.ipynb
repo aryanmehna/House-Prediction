{
 "cells": [
  {
   "cell_type": "markdown",
   "id": "943fd632",
   "metadata": {},
   "source": [
    "# Dataset"
   ]
  },
  {
   "cell_type": "code",
   "execution_count": 1,
   "id": "a192d2ca",
   "metadata": {},
   "outputs": [],
   "source": [
    "# Generic lib\n",
    "import pandas as pd\n",
    "import matplotlib.pyplot as plt\n",
    "import numpy as np\n",
    "\n",
    "# Data set\n",
    "from sklearn.datasets import fetch_california_housing"
   ]
  },
  {
   "cell_type": "code",
   "execution_count": 2,
   "id": "f0290aa2",
   "metadata": {},
   "outputs": [],
   "source": [
    "data = fetch_california_housing()"
   ]
  },
  {
   "cell_type": "code",
   "execution_count": 3,
   "id": "7218dbdd",
   "metadata": {
    "scrolled": true
   },
   "outputs": [
    {
     "name": "stdout",
     "output_type": "stream",
     "text": [
      ".. _california_housing_dataset:\n",
      "\n",
      "California Housing dataset\n",
      "--------------------------\n",
      "\n",
      "**Data Set Characteristics:**\n",
      "\n",
      "    :Number of Instances: 20640\n",
      "\n",
      "    :Number of Attributes: 8 numeric, predictive attributes and the target\n",
      "\n",
      "    :Attribute Information:\n",
      "        - MedInc        median income in block\n",
      "        - HouseAge      median house age in block\n",
      "        - AveRooms      average number of rooms\n",
      "        - AveBedrms     average number of bedrooms\n",
      "        - Population    block population\n",
      "        - AveOccup      average house occupancy\n",
      "        - Latitude      house block latitude\n",
      "        - Longitude     house block longitude\n",
      "\n",
      "    :Missing Attribute Values: None\n",
      "\n",
      "This dataset was obtained from the StatLib repository.\n",
      "http://lib.stat.cmu.edu/datasets/\n",
      "\n",
      "The target variable is the median house value for California districts.\n",
      "\n",
      "This dataset was derived from the 1990 U.S. census, using one row per census\n",
      "block group. A block group is the smallest geographical unit for which the U.S.\n",
      "Census Bureau publishes sample data (a block group typically has a population\n",
      "of 600 to 3,000 people).\n",
      "\n",
      "It can be downloaded/loaded using the\n",
      ":func:`sklearn.datasets.fetch_california_housing` function.\n",
      "\n",
      ".. topic:: References\n",
      "\n",
      "    - Pace, R. Kelley and Ronald Barry, Sparse Spatial Autoregressions,\n",
      "      Statistics and Probability Letters, 33 (1997) 291-297\n",
      "\n"
     ]
    }
   ],
   "source": [
    "print(data.DESCR)"
   ]
  },
  {
   "cell_type": "code",
   "execution_count": 4,
   "id": "df0b1bd1",
   "metadata": {},
   "outputs": [
    {
     "data": {
      "text/html": [
       "<div>\n",
       "<style scoped>\n",
       "    .dataframe tbody tr th:only-of-type {\n",
       "        vertical-align: middle;\n",
       "    }\n",
       "\n",
       "    .dataframe tbody tr th {\n",
       "        vertical-align: top;\n",
       "    }\n",
       "\n",
       "    .dataframe thead th {\n",
       "        text-align: right;\n",
       "    }\n",
       "</style>\n",
       "<table border=\"1\" class=\"dataframe\">\n",
       "  <thead>\n",
       "    <tr style=\"text-align: right;\">\n",
       "      <th></th>\n",
       "      <th>MedInc</th>\n",
       "      <th>HouseAge</th>\n",
       "      <th>AveRooms</th>\n",
       "      <th>AveBedrms</th>\n",
       "      <th>Population</th>\n",
       "      <th>AveOccup</th>\n",
       "      <th>Latitude</th>\n",
       "      <th>Longitude</th>\n",
       "    </tr>\n",
       "  </thead>\n",
       "  <tbody>\n",
       "    <tr>\n",
       "      <th>0</th>\n",
       "      <td>8.3252</td>\n",
       "      <td>41.0</td>\n",
       "      <td>6.984127</td>\n",
       "      <td>1.023810</td>\n",
       "      <td>322.0</td>\n",
       "      <td>2.555556</td>\n",
       "      <td>37.88</td>\n",
       "      <td>-122.23</td>\n",
       "    </tr>\n",
       "    <tr>\n",
       "      <th>1</th>\n",
       "      <td>8.3014</td>\n",
       "      <td>21.0</td>\n",
       "      <td>6.238137</td>\n",
       "      <td>0.971880</td>\n",
       "      <td>2401.0</td>\n",
       "      <td>2.109842</td>\n",
       "      <td>37.86</td>\n",
       "      <td>-122.22</td>\n",
       "    </tr>\n",
       "    <tr>\n",
       "      <th>2</th>\n",
       "      <td>7.2574</td>\n",
       "      <td>52.0</td>\n",
       "      <td>8.288136</td>\n",
       "      <td>1.073446</td>\n",
       "      <td>496.0</td>\n",
       "      <td>2.802260</td>\n",
       "      <td>37.85</td>\n",
       "      <td>-122.24</td>\n",
       "    </tr>\n",
       "    <tr>\n",
       "      <th>3</th>\n",
       "      <td>5.6431</td>\n",
       "      <td>52.0</td>\n",
       "      <td>5.817352</td>\n",
       "      <td>1.073059</td>\n",
       "      <td>558.0</td>\n",
       "      <td>2.547945</td>\n",
       "      <td>37.85</td>\n",
       "      <td>-122.25</td>\n",
       "    </tr>\n",
       "    <tr>\n",
       "      <th>4</th>\n",
       "      <td>3.8462</td>\n",
       "      <td>52.0</td>\n",
       "      <td>6.281853</td>\n",
       "      <td>1.081081</td>\n",
       "      <td>565.0</td>\n",
       "      <td>2.181467</td>\n",
       "      <td>37.85</td>\n",
       "      <td>-122.25</td>\n",
       "    </tr>\n",
       "  </tbody>\n",
       "</table>\n",
       "</div>"
      ],
      "text/plain": [
       "   MedInc  HouseAge  AveRooms  AveBedrms  Population  AveOccup  Latitude  \\\n",
       "0  8.3252      41.0  6.984127   1.023810       322.0  2.555556     37.88   \n",
       "1  8.3014      21.0  6.238137   0.971880      2401.0  2.109842     37.86   \n",
       "2  7.2574      52.0  8.288136   1.073446       496.0  2.802260     37.85   \n",
       "3  5.6431      52.0  5.817352   1.073059       558.0  2.547945     37.85   \n",
       "4  3.8462      52.0  6.281853   1.081081       565.0  2.181467     37.85   \n",
       "\n",
       "   Longitude  \n",
       "0    -122.23  \n",
       "1    -122.22  \n",
       "2    -122.24  \n",
       "3    -122.25  \n",
       "4    -122.25  "
      ]
     },
     "execution_count": 4,
     "metadata": {},
     "output_type": "execute_result"
    }
   ],
   "source": [
    "# Independent data i.e not related to each other \n",
    "df = pd.DataFrame(data = data.data,columns = data.feature_names )\n",
    "df.head()"
   ]
  },
  {
   "cell_type": "code",
   "execution_count": 5,
   "id": "d2d56a5f",
   "metadata": {},
   "outputs": [
    {
     "data": {
      "text/html": [
       "<div>\n",
       "<style scoped>\n",
       "    .dataframe tbody tr th:only-of-type {\n",
       "        vertical-align: middle;\n",
       "    }\n",
       "\n",
       "    .dataframe tbody tr th {\n",
       "        vertical-align: top;\n",
       "    }\n",
       "\n",
       "    .dataframe thead th {\n",
       "        text-align: right;\n",
       "    }\n",
       "</style>\n",
       "<table border=\"1\" class=\"dataframe\">\n",
       "  <thead>\n",
       "    <tr style=\"text-align: right;\">\n",
       "      <th></th>\n",
       "      <th>MedInc</th>\n",
       "      <th>HouseAge</th>\n",
       "      <th>AveRooms</th>\n",
       "      <th>AveBedrms</th>\n",
       "      <th>Population</th>\n",
       "      <th>AveOccup</th>\n",
       "      <th>Latitude</th>\n",
       "      <th>Longitude</th>\n",
       "      <th>Target</th>\n",
       "    </tr>\n",
       "  </thead>\n",
       "  <tbody>\n",
       "    <tr>\n",
       "      <th>0</th>\n",
       "      <td>8.3252</td>\n",
       "      <td>41.0</td>\n",
       "      <td>6.984127</td>\n",
       "      <td>1.023810</td>\n",
       "      <td>322.0</td>\n",
       "      <td>2.555556</td>\n",
       "      <td>37.88</td>\n",
       "      <td>-122.23</td>\n",
       "      <td>4.526</td>\n",
       "    </tr>\n",
       "    <tr>\n",
       "      <th>1</th>\n",
       "      <td>8.3014</td>\n",
       "      <td>21.0</td>\n",
       "      <td>6.238137</td>\n",
       "      <td>0.971880</td>\n",
       "      <td>2401.0</td>\n",
       "      <td>2.109842</td>\n",
       "      <td>37.86</td>\n",
       "      <td>-122.22</td>\n",
       "      <td>3.585</td>\n",
       "    </tr>\n",
       "    <tr>\n",
       "      <th>2</th>\n",
       "      <td>7.2574</td>\n",
       "      <td>52.0</td>\n",
       "      <td>8.288136</td>\n",
       "      <td>1.073446</td>\n",
       "      <td>496.0</td>\n",
       "      <td>2.802260</td>\n",
       "      <td>37.85</td>\n",
       "      <td>-122.24</td>\n",
       "      <td>3.521</td>\n",
       "    </tr>\n",
       "    <tr>\n",
       "      <th>3</th>\n",
       "      <td>5.6431</td>\n",
       "      <td>52.0</td>\n",
       "      <td>5.817352</td>\n",
       "      <td>1.073059</td>\n",
       "      <td>558.0</td>\n",
       "      <td>2.547945</td>\n",
       "      <td>37.85</td>\n",
       "      <td>-122.25</td>\n",
       "      <td>3.413</td>\n",
       "    </tr>\n",
       "    <tr>\n",
       "      <th>4</th>\n",
       "      <td>3.8462</td>\n",
       "      <td>52.0</td>\n",
       "      <td>6.281853</td>\n",
       "      <td>1.081081</td>\n",
       "      <td>565.0</td>\n",
       "      <td>2.181467</td>\n",
       "      <td>37.85</td>\n",
       "      <td>-122.25</td>\n",
       "      <td>3.422</td>\n",
       "    </tr>\n",
       "  </tbody>\n",
       "</table>\n",
       "</div>"
      ],
      "text/plain": [
       "   MedInc  HouseAge  AveRooms  AveBedrms  Population  AveOccup  Latitude  \\\n",
       "0  8.3252      41.0  6.984127   1.023810       322.0  2.555556     37.88   \n",
       "1  8.3014      21.0  6.238137   0.971880      2401.0  2.109842     37.86   \n",
       "2  7.2574      52.0  8.288136   1.073446       496.0  2.802260     37.85   \n",
       "3  5.6431      52.0  5.817352   1.073059       558.0  2.547945     37.85   \n",
       "4  3.8462      52.0  6.281853   1.081081       565.0  2.181467     37.85   \n",
       "\n",
       "   Longitude  Target  \n",
       "0    -122.23   4.526  \n",
       "1    -122.22   3.585  \n",
       "2    -122.24   3.521  \n",
       "3    -122.25   3.413  \n",
       "4    -122.25   3.422  "
      ]
     },
     "execution_count": 5,
     "metadata": {},
     "output_type": "execute_result"
    }
   ],
   "source": [
    "#dependent data\n",
    "df['Target'] = data.target\n",
    "df.head()"
   ]
  },
  {
   "cell_type": "code",
   "execution_count": null,
   "id": "c9616f93",
   "metadata": {},
   "outputs": [],
   "source": []
  },
  {
   "cell_type": "markdown",
   "id": "84378fe2",
   "metadata": {},
   "source": [
    "# Exploratory Data Analysis (EDA)"
   ]
  },
  {
   "cell_type": "code",
   "execution_count": 6,
   "id": "ab28178a",
   "metadata": {},
   "outputs": [],
   "source": [
    "#!pip install sweetviz"
   ]
  },
  {
   "cell_type": "markdown",
   "id": "3cebcd3a",
   "metadata": {},
   "source": [
    "1. Sweetviz is an open-source Python library that generates beautiful, high-density visualizations to kickstart EDA (Exploratory Data Analysis) with just two lines of code"
   ]
  },
  {
   "cell_type": "code",
   "execution_count": 7,
   "id": "505475fe",
   "metadata": {},
   "outputs": [],
   "source": [
    "import sweetviz as sv"
   ]
  },
  {
   "cell_type": "code",
   "execution_count": 8,
   "id": "5aa09fb2",
   "metadata": {},
   "outputs": [
    {
     "data": {
      "application/vnd.jupyter.widget-view+json": {
       "model_id": "0d3506764da148d3b14b14441067a7af",
       "version_major": 2,
       "version_minor": 0
      },
      "text/plain": [
       "                                             |          | [  0%]   00:00 -> (? left)"
      ]
     },
     "metadata": {},
     "output_type": "display_data"
    },
    {
     "name": "stdout",
     "output_type": "stream",
     "text": [
      "Report ./report.html was generated! NOTEBOOK/COLAB USERS: the web browser MAY not pop up, regardless, the report IS saved in your notebook/colab files.\n"
     ]
    }
   ],
   "source": [
    "report = sv.analyze(df)\n",
    "\n",
    "report.show_html(\"./report.html\")"
   ]
  },
  {
   "cell_type": "markdown",
   "id": "a8021309",
   "metadata": {},
   "source": [
    "# Data Pre-Processing"
   ]
  },
  {
   "cell_type": "markdown",
   "id": "b2c16946",
   "metadata": {},
   "source": [
    "## Feature Engineering"
   ]
  },
  {
   "cell_type": "code",
   "execution_count": 9,
   "id": "15e2e3d1",
   "metadata": {},
   "outputs": [],
   "source": [
    "#!pip install geopy"
   ]
  },
  {
   "cell_type": "code",
   "execution_count": 10,
   "id": "ceaace12",
   "metadata": {},
   "outputs": [],
   "source": [
    "from geopy.geocoders import Nominatim"
   ]
  },
  {
   "cell_type": "code",
   "execution_count": 11,
   "id": "df17eea8",
   "metadata": {},
   "outputs": [],
   "source": [
    "geolocator = Nominatim(user_agent = 'geoapiExercises')"
   ]
  },
  {
   "cell_type": "code",
   "execution_count": 12,
   "id": "bd4c597b",
   "metadata": {},
   "outputs": [],
   "source": [
    "#aryan = geolocator.reverse(\"37.88\"+\" , \"+\"-122.23\").raw['address']\n",
    "\n"
   ]
  },
  {
   "cell_type": "code",
   "execution_count": 13,
   "id": "f43a39c6",
   "metadata": {},
   "outputs": [],
   "source": [
    "# using google maps we are finding the area from longitude and latitude given to us\n",
    "\n",
    "def locations(cord):\n",
    "    latitude = str(cord[0])\n",
    "    longitude = str(cord[1])\n",
    "    \n",
    "    location = geolocator.reverse(latitude +\",\"+ longitude).raw['address'] #raw return a dictionary\n",
    "    \n",
    "    #if the values are missing replace by a empty string\n",
    "    \n",
    "    if location.get('road') is None:\n",
    "        location['road'] = None\n",
    "        \n",
    "    if location.get('county') is None:\n",
    "        location['county'] = None\n",
    "    \n",
    "    \n",
    "    loc_update['County'].append(location['county'])\n",
    "    loc_update['Road'].append(location['road'])\n",
    "    "
   ]
  },
  {
   "cell_type": "code",
   "execution_count": 14,
   "id": "59fc361e",
   "metadata": {},
   "outputs": [],
   "source": [
    "import pickle"
   ]
  },
  {
   "cell_type": "code",
   "execution_count": 15,
   "id": "1b65e180",
   "metadata": {},
   "outputs": [
    {
     "data": {
      "text/plain": [
       "'\\nloc_update = {\"County\":[],\\n             \"Road\":[]}\\n\\n\\nfor i,cord in enumerate(df.iloc[:,6:-1].values):\\n    \\n    locations(cord)\\n    pickle.dump(loc_update,open(\\'loc_update.pickle\\',\\'wb\\'))\\n    \\n    if i%100 == 0:\\n        print(i)\\n        \\n'"
      ]
     },
     "execution_count": 15,
     "metadata": {},
     "output_type": "execute_result"
    }
   ],
   "source": [
    "\n",
    "\"\"\"\n",
    "loc_update = {\"County\":[],\n",
    "             \"Road\":[]}\n",
    "\n",
    "\n",
    "for i,cord in enumerate(df.iloc[:,6:-1].values):\n",
    "    \n",
    "    locations(cord)\n",
    "    pickle.dump(loc_update,open('loc_update.pickle','wb'))\n",
    "    \n",
    "    if i%100 == 0:\n",
    "        print(i)\n",
    "        \n",
    "\"\"\"\n",
    "\n",
    "    "
   ]
  },
  {
   "cell_type": "code",
   "execution_count": 16,
   "id": "5705c371",
   "metadata": {},
   "outputs": [],
   "source": [
    "# to load the pickle model\n",
    "loc_update = pickle.load(open(r\"C:\\Users\\mehna\\Machine Learning Project\\loc_update.pickle\",\"rb\"))"
   ]
  },
  {
   "cell_type": "markdown",
   "id": "bde53f42",
   "metadata": {},
   "source": [
    "### Deleting latitude and longitude and modigy the DF with new values (County, Road)"
   ]
  },
  {
   "cell_type": "code",
   "execution_count": 17,
   "id": "793adcf6",
   "metadata": {},
   "outputs": [
    {
     "data": {
      "text/html": [
       "<div>\n",
       "<style scoped>\n",
       "    .dataframe tbody tr th:only-of-type {\n",
       "        vertical-align: middle;\n",
       "    }\n",
       "\n",
       "    .dataframe tbody tr th {\n",
       "        vertical-align: top;\n",
       "    }\n",
       "\n",
       "    .dataframe thead th {\n",
       "        text-align: right;\n",
       "    }\n",
       "</style>\n",
       "<table border=\"1\" class=\"dataframe\">\n",
       "  <thead>\n",
       "    <tr style=\"text-align: right;\">\n",
       "      <th></th>\n",
       "      <th>County</th>\n",
       "      <th>Road</th>\n",
       "    </tr>\n",
       "  </thead>\n",
       "  <tbody>\n",
       "    <tr>\n",
       "      <th>0</th>\n",
       "      <td>Alameda County</td>\n",
       "      <td>Centennial Drive</td>\n",
       "    </tr>\n",
       "    <tr>\n",
       "      <th>1</th>\n",
       "      <td>Alameda County</td>\n",
       "      <td>Gwin Canyon Trail</td>\n",
       "    </tr>\n",
       "    <tr>\n",
       "      <th>2</th>\n",
       "      <td>Alameda County</td>\n",
       "      <td>Grove Shafter Freeway</td>\n",
       "    </tr>\n",
       "    <tr>\n",
       "      <th>3</th>\n",
       "      <td>Alameda County</td>\n",
       "      <td>Florio Street</td>\n",
       "    </tr>\n",
       "    <tr>\n",
       "      <th>4</th>\n",
       "      <td>Alameda County</td>\n",
       "      <td>Florio Street</td>\n",
       "    </tr>\n",
       "  </tbody>\n",
       "</table>\n",
       "</div>"
      ],
      "text/plain": [
       "           County                   Road\n",
       "0  Alameda County       Centennial Drive\n",
       "1  Alameda County      Gwin Canyon Trail\n",
       "2  Alameda County  Grove Shafter Freeway\n",
       "3  Alameda County          Florio Street\n",
       "4  Alameda County          Florio Street"
      ]
     },
     "execution_count": 17,
     "metadata": {},
     "output_type": "execute_result"
    }
   ],
   "source": [
    "loc = pd.DataFrame(loc_update)\n",
    "loc.head()"
   ]
  },
  {
   "cell_type": "code",
   "execution_count": 18,
   "id": "1ddf4da9",
   "metadata": {},
   "outputs": [
    {
     "name": "stdout",
     "output_type": "stream",
     "text": [
      "<class 'pandas.core.frame.DataFrame'>\n",
      "RangeIndex: 20640 entries, 0 to 20639\n",
      "Data columns (total 2 columns):\n",
      " #   Column  Non-Null Count  Dtype \n",
      "---  ------  --------------  ----- \n",
      " 0   County  20065 non-null  object\n",
      " 1   Road    19578 non-null  object\n",
      "dtypes: object(2)\n",
      "memory usage: 322.6+ KB\n"
     ]
    }
   ],
   "source": [
    "loc.info()"
   ]
  },
  {
   "cell_type": "code",
   "execution_count": 19,
   "id": "90073eaa",
   "metadata": {},
   "outputs": [],
   "source": [
    "# Add new feauters to dataframe\n",
    "\n",
    "for i in loc_update.keys():\n",
    "    df[i] = loc_update[i]\n",
    "\n",
    "#df = df.sample(axis = 0, frac =1)"
   ]
  },
  {
   "cell_type": "code",
   "execution_count": 20,
   "id": "949f0cb1",
   "metadata": {},
   "outputs": [
    {
     "data": {
      "text/html": [
       "<div>\n",
       "<style scoped>\n",
       "    .dataframe tbody tr th:only-of-type {\n",
       "        vertical-align: middle;\n",
       "    }\n",
       "\n",
       "    .dataframe tbody tr th {\n",
       "        vertical-align: top;\n",
       "    }\n",
       "\n",
       "    .dataframe thead th {\n",
       "        text-align: right;\n",
       "    }\n",
       "</style>\n",
       "<table border=\"1\" class=\"dataframe\">\n",
       "  <thead>\n",
       "    <tr style=\"text-align: right;\">\n",
       "      <th></th>\n",
       "      <th>MedInc</th>\n",
       "      <th>HouseAge</th>\n",
       "      <th>AveRooms</th>\n",
       "      <th>AveBedrms</th>\n",
       "      <th>Population</th>\n",
       "      <th>AveOccup</th>\n",
       "      <th>Latitude</th>\n",
       "      <th>Longitude</th>\n",
       "      <th>Target</th>\n",
       "      <th>County</th>\n",
       "      <th>Road</th>\n",
       "    </tr>\n",
       "  </thead>\n",
       "  <tbody>\n",
       "    <tr>\n",
       "      <th>0</th>\n",
       "      <td>8.3252</td>\n",
       "      <td>41.0</td>\n",
       "      <td>6.984127</td>\n",
       "      <td>1.023810</td>\n",
       "      <td>322.0</td>\n",
       "      <td>2.555556</td>\n",
       "      <td>37.88</td>\n",
       "      <td>-122.23</td>\n",
       "      <td>4.526</td>\n",
       "      <td>Alameda County</td>\n",
       "      <td>Centennial Drive</td>\n",
       "    </tr>\n",
       "    <tr>\n",
       "      <th>1</th>\n",
       "      <td>8.3014</td>\n",
       "      <td>21.0</td>\n",
       "      <td>6.238137</td>\n",
       "      <td>0.971880</td>\n",
       "      <td>2401.0</td>\n",
       "      <td>2.109842</td>\n",
       "      <td>37.86</td>\n",
       "      <td>-122.22</td>\n",
       "      <td>3.585</td>\n",
       "      <td>Alameda County</td>\n",
       "      <td>Gwin Canyon Trail</td>\n",
       "    </tr>\n",
       "    <tr>\n",
       "      <th>2</th>\n",
       "      <td>7.2574</td>\n",
       "      <td>52.0</td>\n",
       "      <td>8.288136</td>\n",
       "      <td>1.073446</td>\n",
       "      <td>496.0</td>\n",
       "      <td>2.802260</td>\n",
       "      <td>37.85</td>\n",
       "      <td>-122.24</td>\n",
       "      <td>3.521</td>\n",
       "      <td>Alameda County</td>\n",
       "      <td>Grove Shafter Freeway</td>\n",
       "    </tr>\n",
       "    <tr>\n",
       "      <th>3</th>\n",
       "      <td>5.6431</td>\n",
       "      <td>52.0</td>\n",
       "      <td>5.817352</td>\n",
       "      <td>1.073059</td>\n",
       "      <td>558.0</td>\n",
       "      <td>2.547945</td>\n",
       "      <td>37.85</td>\n",
       "      <td>-122.25</td>\n",
       "      <td>3.413</td>\n",
       "      <td>Alameda County</td>\n",
       "      <td>Florio Street</td>\n",
       "    </tr>\n",
       "    <tr>\n",
       "      <th>4</th>\n",
       "      <td>3.8462</td>\n",
       "      <td>52.0</td>\n",
       "      <td>6.281853</td>\n",
       "      <td>1.081081</td>\n",
       "      <td>565.0</td>\n",
       "      <td>2.181467</td>\n",
       "      <td>37.85</td>\n",
       "      <td>-122.25</td>\n",
       "      <td>3.422</td>\n",
       "      <td>Alameda County</td>\n",
       "      <td>Florio Street</td>\n",
       "    </tr>\n",
       "  </tbody>\n",
       "</table>\n",
       "</div>"
      ],
      "text/plain": [
       "   MedInc  HouseAge  AveRooms  AveBedrms  Population  AveOccup  Latitude  \\\n",
       "0  8.3252      41.0  6.984127   1.023810       322.0  2.555556     37.88   \n",
       "1  8.3014      21.0  6.238137   0.971880      2401.0  2.109842     37.86   \n",
       "2  7.2574      52.0  8.288136   1.073446       496.0  2.802260     37.85   \n",
       "3  5.6431      52.0  5.817352   1.073059       558.0  2.547945     37.85   \n",
       "4  3.8462      52.0  6.281853   1.081081       565.0  2.181467     37.85   \n",
       "\n",
       "   Longitude  Target          County                   Road  \n",
       "0    -122.23   4.526  Alameda County       Centennial Drive  \n",
       "1    -122.22   3.585  Alameda County      Gwin Canyon Trail  \n",
       "2    -122.24   3.521  Alameda County  Grove Shafter Freeway  \n",
       "3    -122.25   3.413  Alameda County          Florio Street  \n",
       "4    -122.25   3.422  Alameda County          Florio Street  "
      ]
     },
     "execution_count": 20,
     "metadata": {},
     "output_type": "execute_result"
    }
   ],
   "source": [
    "df.head()"
   ]
  },
  {
   "cell_type": "code",
   "execution_count": 21,
   "id": "40d118f2",
   "metadata": {},
   "outputs": [
    {
     "data": {
      "text/html": [
       "<div>\n",
       "<style scoped>\n",
       "    .dataframe tbody tr th:only-of-type {\n",
       "        vertical-align: middle;\n",
       "    }\n",
       "\n",
       "    .dataframe tbody tr th {\n",
       "        vertical-align: top;\n",
       "    }\n",
       "\n",
       "    .dataframe thead th {\n",
       "        text-align: right;\n",
       "    }\n",
       "</style>\n",
       "<table border=\"1\" class=\"dataframe\">\n",
       "  <thead>\n",
       "    <tr style=\"text-align: right;\">\n",
       "      <th></th>\n",
       "      <th>MedInc</th>\n",
       "      <th>HouseAge</th>\n",
       "      <th>AveRooms</th>\n",
       "      <th>AveBedrms</th>\n",
       "      <th>Population</th>\n",
       "      <th>AveOccup</th>\n",
       "      <th>Target</th>\n",
       "      <th>County</th>\n",
       "      <th>Road</th>\n",
       "    </tr>\n",
       "  </thead>\n",
       "  <tbody>\n",
       "    <tr>\n",
       "      <th>0</th>\n",
       "      <td>8.3252</td>\n",
       "      <td>41.0</td>\n",
       "      <td>6.984127</td>\n",
       "      <td>1.023810</td>\n",
       "      <td>322.0</td>\n",
       "      <td>2.555556</td>\n",
       "      <td>4.526</td>\n",
       "      <td>Alameda County</td>\n",
       "      <td>Centennial Drive</td>\n",
       "    </tr>\n",
       "    <tr>\n",
       "      <th>1</th>\n",
       "      <td>8.3014</td>\n",
       "      <td>21.0</td>\n",
       "      <td>6.238137</td>\n",
       "      <td>0.971880</td>\n",
       "      <td>2401.0</td>\n",
       "      <td>2.109842</td>\n",
       "      <td>3.585</td>\n",
       "      <td>Alameda County</td>\n",
       "      <td>Gwin Canyon Trail</td>\n",
       "    </tr>\n",
       "    <tr>\n",
       "      <th>2</th>\n",
       "      <td>7.2574</td>\n",
       "      <td>52.0</td>\n",
       "      <td>8.288136</td>\n",
       "      <td>1.073446</td>\n",
       "      <td>496.0</td>\n",
       "      <td>2.802260</td>\n",
       "      <td>3.521</td>\n",
       "      <td>Alameda County</td>\n",
       "      <td>Grove Shafter Freeway</td>\n",
       "    </tr>\n",
       "    <tr>\n",
       "      <th>3</th>\n",
       "      <td>5.6431</td>\n",
       "      <td>52.0</td>\n",
       "      <td>5.817352</td>\n",
       "      <td>1.073059</td>\n",
       "      <td>558.0</td>\n",
       "      <td>2.547945</td>\n",
       "      <td>3.413</td>\n",
       "      <td>Alameda County</td>\n",
       "      <td>Florio Street</td>\n",
       "    </tr>\n",
       "    <tr>\n",
       "      <th>4</th>\n",
       "      <td>3.8462</td>\n",
       "      <td>52.0</td>\n",
       "      <td>6.281853</td>\n",
       "      <td>1.081081</td>\n",
       "      <td>565.0</td>\n",
       "      <td>2.181467</td>\n",
       "      <td>3.422</td>\n",
       "      <td>Alameda County</td>\n",
       "      <td>Florio Street</td>\n",
       "    </tr>\n",
       "  </tbody>\n",
       "</table>\n",
       "</div>"
      ],
      "text/plain": [
       "   MedInc  HouseAge  AveRooms  AveBedrms  Population  AveOccup  Target  \\\n",
       "0  8.3252      41.0  6.984127   1.023810       322.0  2.555556   4.526   \n",
       "1  8.3014      21.0  6.238137   0.971880      2401.0  2.109842   3.585   \n",
       "2  7.2574      52.0  8.288136   1.073446       496.0  2.802260   3.521   \n",
       "3  5.6431      52.0  5.817352   1.073059       558.0  2.547945   3.413   \n",
       "4  3.8462      52.0  6.281853   1.081081       565.0  2.181467   3.422   \n",
       "\n",
       "           County                   Road  \n",
       "0  Alameda County       Centennial Drive  \n",
       "1  Alameda County      Gwin Canyon Trail  \n",
       "2  Alameda County  Grove Shafter Freeway  \n",
       "3  Alameda County          Florio Street  \n",
       "4  Alameda County          Florio Street  "
      ]
     },
     "execution_count": 21,
     "metadata": {},
     "output_type": "execute_result"
    }
   ],
   "source": [
    "# drop latitude and longitude\n",
    "\n",
    "df.drop(labels = [\"Latitude\",\"Longitude\"], axis =1, inplace = True)\n",
    "\n",
    "df.head()"
   ]
  },
  {
   "cell_type": "code",
   "execution_count": 22,
   "id": "3a59a203",
   "metadata": {},
   "outputs": [
    {
     "name": "stdout",
     "output_type": "stream",
     "text": [
      "<class 'pandas.core.frame.DataFrame'>\n",
      "RangeIndex: 20640 entries, 0 to 20639\n",
      "Data columns (total 9 columns):\n",
      " #   Column      Non-Null Count  Dtype  \n",
      "---  ------      --------------  -----  \n",
      " 0   MedInc      20640 non-null  float64\n",
      " 1   HouseAge    20640 non-null  float64\n",
      " 2   AveRooms    20640 non-null  float64\n",
      " 3   AveBedrms   20640 non-null  float64\n",
      " 4   Population  20640 non-null  float64\n",
      " 5   AveOccup    20640 non-null  float64\n",
      " 6   Target      20640 non-null  float64\n",
      " 7   County      20065 non-null  object \n",
      " 8   Road        19578 non-null  object \n",
      "dtypes: float64(7), object(2)\n",
      "memory usage: 1.4+ MB\n"
     ]
    }
   ],
   "source": [
    "df.info()"
   ]
  },
  {
   "cell_type": "markdown",
   "id": "bcbeb6a4",
   "metadata": {},
   "source": [
    "#### Removing Null Values\n",
    "##### Using Classification algo to fill the categorical values\n",
    "\n"
   ]
  },
  {
   "cell_type": "markdown",
   "id": "42ff6bbe",
   "metadata": {},
   "source": [
    "#### 1. Predicting Road Null values"
   ]
  },
  {
   "cell_type": "code",
   "execution_count": 23,
   "id": "1f338e96",
   "metadata": {},
   "outputs": [
    {
     "data": {
      "text/plain": [
       "Index(['MedInc', 'HouseAge', 'AveRooms', 'AveBedrms', 'Population', 'AveOccup',\n",
       "       'Target', 'County', 'Road'],\n",
       "      dtype='object')"
      ]
     },
     "execution_count": 23,
     "metadata": {},
     "output_type": "execute_result"
    }
   ],
   "source": [
    "df.columns"
   ]
  },
  {
   "cell_type": "code",
   "execution_count": 24,
   "id": "22af5f55",
   "metadata": {},
   "outputs": [],
   "source": [
    "# Applying Logistic Regression to find missing values for road column\n",
    "\n",
    "missing_index = []\n",
    "\n",
    "for i in range(df.shape[0]):\n",
    "    if df[\"Road\"][i] is None:\n",
    "        missing_index.append(i)\n",
    "        \n",
    "#independent Variable\n",
    "missing_road_x_train = np.array([ [df[\"MedInc\"][i],df[\"AveRooms\"][i], df[\"AveBedrms\"][i] ] for i in range(df.shape[0]) if i not in missing_index])\n",
    "\n",
    "#Dependent Variable\n",
    "missing_road_y_train = np.array([df[\"Road\"][i] for i in range(df.shape[0]) if i not in missing_index])\n",
    "\n",
    "missing_road_x_test = np.array([ [df[\"MedInc\"][i],df[\"AveRooms\"][i], df[\"AveBedrms\"][i] ] for i in range(df.shape[0]) if i in missing_index])        "
   ]
  },
  {
   "cell_type": "code",
   "execution_count": 25,
   "id": "54346117",
   "metadata": {},
   "outputs": [
    {
     "data": {
      "text/plain": [
       "array([[8.3252    , 6.98412698, 1.02380952],\n",
       "       [8.3014    , 6.23813708, 0.97188049],\n",
       "       [7.2574    , 8.28813559, 1.07344633],\n",
       "       ...,\n",
       "       [1.7       , 5.20554273, 1.12009238],\n",
       "       [1.8672    , 5.32951289, 1.17191977],\n",
       "       [2.3886    , 5.25471698, 1.16226415]])"
      ]
     },
     "execution_count": 25,
     "metadata": {},
     "output_type": "execute_result"
    }
   ],
   "source": [
    "missing_road_x_train"
   ]
  },
  {
   "cell_type": "code",
   "execution_count": 26,
   "id": "4861ae24",
   "metadata": {},
   "outputs": [],
   "source": [
    "from sklearn.linear_model import SGDClassifier as sgdc"
   ]
  },
  {
   "cell_type": "code",
   "execution_count": 27,
   "id": "76f74a9f",
   "metadata": {},
   "outputs": [],
   "source": [
    "#model Initialization\n",
    "\n",
    "model_1 = sgdc()\n",
    "\n",
    "model_1.fit(missing_road_x_train,missing_road_y_train)\n",
    "\n",
    "missing_road_y_pred = model_1.predict(missing_road_x_test)"
   ]
  },
  {
   "cell_type": "code",
   "execution_count": 28,
   "id": "1f0863e8",
   "metadata": {},
   "outputs": [
    {
     "data": {
      "text/plain": [
       "array(['5th Street', 'Beach Boulevard', 'Bradford Street',\n",
       "       'Broadway Avenue', 'El Rancho Drive', 'Euclid Avenue',\n",
       "       'Foothill Expressway', 'Hiawatha Way', 'Horton Avenue',\n",
       "       'Keswick Street', 'Lochridge Drive', 'Olympia Avenue',\n",
       "       'Paramount Boulevard', 'Rheem Avenue', 'Saint Clair Avenue',\n",
       "       'Valley Club Road', 'West 17th Street', 'West 66th Street',\n",
       "       'West Beverly Boulevard', 'Westminster Boulevard'], dtype='<U77')"
      ]
     },
     "execution_count": 28,
     "metadata": {},
     "output_type": "execute_result"
    }
   ],
   "source": [
    "np.unique(missing_road_y_pred)"
   ]
  },
  {
   "cell_type": "code",
   "execution_count": 29,
   "id": "373a3d01",
   "metadata": {},
   "outputs": [
    {
     "name": "stderr",
     "output_type": "stream",
     "text": [
      "<ipython-input-29-1ceba5afea57>:4: SettingWithCopyWarning: \n",
      "A value is trying to be set on a copy of a slice from a DataFrame\n",
      "\n",
      "See the caveats in the documentation: https://pandas.pydata.org/pandas-docs/stable/user_guide/indexing.html#returning-a-view-versus-a-copy\n",
      "  df[\"Road\"][i] = missing_road_y_pred[n]\n"
     ]
    }
   ],
   "source": [
    "# Add the model back to dataframe\n",
    "\n",
    "for n,i in enumerate(missing_index):\n",
    "    df[\"Road\"][i] = missing_road_y_pred[n]"
   ]
  },
  {
   "cell_type": "code",
   "execution_count": 30,
   "id": "8561bda1",
   "metadata": {},
   "outputs": [
    {
     "name": "stdout",
     "output_type": "stream",
     "text": [
      "<class 'pandas.core.frame.DataFrame'>\n",
      "RangeIndex: 20640 entries, 0 to 20639\n",
      "Data columns (total 9 columns):\n",
      " #   Column      Non-Null Count  Dtype  \n",
      "---  ------      --------------  -----  \n",
      " 0   MedInc      20640 non-null  float64\n",
      " 1   HouseAge    20640 non-null  float64\n",
      " 2   AveRooms    20640 non-null  float64\n",
      " 3   AveBedrms   20640 non-null  float64\n",
      " 4   Population  20640 non-null  float64\n",
      " 5   AveOccup    20640 non-null  float64\n",
      " 6   Target      20640 non-null  float64\n",
      " 7   County      20065 non-null  object \n",
      " 8   Road        20640 non-null  object \n",
      "dtypes: float64(7), object(2)\n",
      "memory usage: 1.4+ MB\n"
     ]
    }
   ],
   "source": [
    "df.info()"
   ]
  },
  {
   "cell_type": "code",
   "execution_count": 31,
   "id": "d2a45879",
   "metadata": {},
   "outputs": [
    {
     "data": {
      "text/html": [
       "<div>\n",
       "<style scoped>\n",
       "    .dataframe tbody tr th:only-of-type {\n",
       "        vertical-align: middle;\n",
       "    }\n",
       "\n",
       "    .dataframe tbody tr th {\n",
       "        vertical-align: top;\n",
       "    }\n",
       "\n",
       "    .dataframe thead th {\n",
       "        text-align: right;\n",
       "    }\n",
       "</style>\n",
       "<table border=\"1\" class=\"dataframe\">\n",
       "  <thead>\n",
       "    <tr style=\"text-align: right;\">\n",
       "      <th></th>\n",
       "      <th>MedInc</th>\n",
       "      <th>HouseAge</th>\n",
       "      <th>AveRooms</th>\n",
       "      <th>AveBedrms</th>\n",
       "      <th>Population</th>\n",
       "      <th>AveOccup</th>\n",
       "      <th>Target</th>\n",
       "      <th>County</th>\n",
       "      <th>Road</th>\n",
       "    </tr>\n",
       "  </thead>\n",
       "  <tbody>\n",
       "    <tr>\n",
       "      <th>0</th>\n",
       "      <td>8.3252</td>\n",
       "      <td>41.0</td>\n",
       "      <td>6.984127</td>\n",
       "      <td>1.023810</td>\n",
       "      <td>322.0</td>\n",
       "      <td>2.555556</td>\n",
       "      <td>4.526</td>\n",
       "      <td>Alameda County</td>\n",
       "      <td>Centennial Drive</td>\n",
       "    </tr>\n",
       "    <tr>\n",
       "      <th>1</th>\n",
       "      <td>8.3014</td>\n",
       "      <td>21.0</td>\n",
       "      <td>6.238137</td>\n",
       "      <td>0.971880</td>\n",
       "      <td>2401.0</td>\n",
       "      <td>2.109842</td>\n",
       "      <td>3.585</td>\n",
       "      <td>Alameda County</td>\n",
       "      <td>Gwin Canyon Trail</td>\n",
       "    </tr>\n",
       "    <tr>\n",
       "      <th>2</th>\n",
       "      <td>7.2574</td>\n",
       "      <td>52.0</td>\n",
       "      <td>8.288136</td>\n",
       "      <td>1.073446</td>\n",
       "      <td>496.0</td>\n",
       "      <td>2.802260</td>\n",
       "      <td>3.521</td>\n",
       "      <td>Alameda County</td>\n",
       "      <td>Grove Shafter Freeway</td>\n",
       "    </tr>\n",
       "    <tr>\n",
       "      <th>3</th>\n",
       "      <td>5.6431</td>\n",
       "      <td>52.0</td>\n",
       "      <td>5.817352</td>\n",
       "      <td>1.073059</td>\n",
       "      <td>558.0</td>\n",
       "      <td>2.547945</td>\n",
       "      <td>3.413</td>\n",
       "      <td>Alameda County</td>\n",
       "      <td>Florio Street</td>\n",
       "    </tr>\n",
       "    <tr>\n",
       "      <th>4</th>\n",
       "      <td>3.8462</td>\n",
       "      <td>52.0</td>\n",
       "      <td>6.281853</td>\n",
       "      <td>1.081081</td>\n",
       "      <td>565.0</td>\n",
       "      <td>2.181467</td>\n",
       "      <td>3.422</td>\n",
       "      <td>Alameda County</td>\n",
       "      <td>Florio Street</td>\n",
       "    </tr>\n",
       "  </tbody>\n",
       "</table>\n",
       "</div>"
      ],
      "text/plain": [
       "   MedInc  HouseAge  AveRooms  AveBedrms  Population  AveOccup  Target  \\\n",
       "0  8.3252      41.0  6.984127   1.023810       322.0  2.555556   4.526   \n",
       "1  8.3014      21.0  6.238137   0.971880      2401.0  2.109842   3.585   \n",
       "2  7.2574      52.0  8.288136   1.073446       496.0  2.802260   3.521   \n",
       "3  5.6431      52.0  5.817352   1.073059       558.0  2.547945   3.413   \n",
       "4  3.8462      52.0  6.281853   1.081081       565.0  2.181467   3.422   \n",
       "\n",
       "           County                   Road  \n",
       "0  Alameda County       Centennial Drive  \n",
       "1  Alameda County      Gwin Canyon Trail  \n",
       "2  Alameda County  Grove Shafter Freeway  \n",
       "3  Alameda County          Florio Street  \n",
       "4  Alameda County          Florio Street  "
      ]
     },
     "execution_count": 31,
     "metadata": {},
     "output_type": "execute_result"
    }
   ],
   "source": [
    "df.head()"
   ]
  },
  {
   "cell_type": "code",
   "execution_count": 32,
   "id": "df4fa92f",
   "metadata": {},
   "outputs": [],
   "source": [
    "# label encode \n",
    "\n",
    "from sklearn.preprocessing import LabelEncoder"
   ]
  },
  {
   "cell_type": "markdown",
   "id": "aa4c8597",
   "metadata": {},
   "source": [
    "What is a label encoder?\n",
    "\n",
    "Label Encoding is a popular encoding technique for handling categorical variables. In this technique, each label is assigned a unique integer based on alphabetical ordering."
   ]
  },
  {
   "cell_type": "code",
   "execution_count": 33,
   "id": "a58297b8",
   "metadata": {},
   "outputs": [],
   "source": [
    "le = LabelEncoder()\n",
    "\n",
    "df[\"Road\"] = le.fit_transform(df[\"Road\"])"
   ]
  },
  {
   "cell_type": "code",
   "execution_count": 34,
   "id": "5177b8aa",
   "metadata": {},
   "outputs": [
    {
     "data": {
      "text/html": [
       "<div>\n",
       "<style scoped>\n",
       "    .dataframe tbody tr th:only-of-type {\n",
       "        vertical-align: middle;\n",
       "    }\n",
       "\n",
       "    .dataframe tbody tr th {\n",
       "        vertical-align: top;\n",
       "    }\n",
       "\n",
       "    .dataframe thead th {\n",
       "        text-align: right;\n",
       "    }\n",
       "</style>\n",
       "<table border=\"1\" class=\"dataframe\">\n",
       "  <thead>\n",
       "    <tr style=\"text-align: right;\">\n",
       "      <th></th>\n",
       "      <th>MedInc</th>\n",
       "      <th>HouseAge</th>\n",
       "      <th>AveRooms</th>\n",
       "      <th>AveBedrms</th>\n",
       "      <th>Population</th>\n",
       "      <th>AveOccup</th>\n",
       "      <th>Target</th>\n",
       "      <th>County</th>\n",
       "      <th>Road</th>\n",
       "    </tr>\n",
       "  </thead>\n",
       "  <tbody>\n",
       "    <tr>\n",
       "      <th>0</th>\n",
       "      <td>8.3252</td>\n",
       "      <td>41.0</td>\n",
       "      <td>6.984127</td>\n",
       "      <td>1.023810</td>\n",
       "      <td>322.0</td>\n",
       "      <td>2.555556</td>\n",
       "      <td>4.526</td>\n",
       "      <td>Alameda County</td>\n",
       "      <td>1474</td>\n",
       "    </tr>\n",
       "    <tr>\n",
       "      <th>1</th>\n",
       "      <td>8.3014</td>\n",
       "      <td>21.0</td>\n",
       "      <td>6.238137</td>\n",
       "      <td>0.971880</td>\n",
       "      <td>2401.0</td>\n",
       "      <td>2.109842</td>\n",
       "      <td>3.585</td>\n",
       "      <td>Alameda County</td>\n",
       "      <td>3491</td>\n",
       "    </tr>\n",
       "    <tr>\n",
       "      <th>2</th>\n",
       "      <td>7.2574</td>\n",
       "      <td>52.0</td>\n",
       "      <td>8.288136</td>\n",
       "      <td>1.073446</td>\n",
       "      <td>496.0</td>\n",
       "      <td>2.802260</td>\n",
       "      <td>3.521</td>\n",
       "      <td>Alameda County</td>\n",
       "      <td>3472</td>\n",
       "    </tr>\n",
       "    <tr>\n",
       "      <th>3</th>\n",
       "      <td>5.6431</td>\n",
       "      <td>52.0</td>\n",
       "      <td>5.817352</td>\n",
       "      <td>1.073059</td>\n",
       "      <td>558.0</td>\n",
       "      <td>2.547945</td>\n",
       "      <td>3.413</td>\n",
       "      <td>Alameda County</td>\n",
       "      <td>3095</td>\n",
       "    </tr>\n",
       "    <tr>\n",
       "      <th>4</th>\n",
       "      <td>3.8462</td>\n",
       "      <td>52.0</td>\n",
       "      <td>6.281853</td>\n",
       "      <td>1.081081</td>\n",
       "      <td>565.0</td>\n",
       "      <td>2.181467</td>\n",
       "      <td>3.422</td>\n",
       "      <td>Alameda County</td>\n",
       "      <td>3095</td>\n",
       "    </tr>\n",
       "  </tbody>\n",
       "</table>\n",
       "</div>"
      ],
      "text/plain": [
       "   MedInc  HouseAge  AveRooms  AveBedrms  Population  AveOccup  Target  \\\n",
       "0  8.3252      41.0  6.984127   1.023810       322.0  2.555556   4.526   \n",
       "1  8.3014      21.0  6.238137   0.971880      2401.0  2.109842   3.585   \n",
       "2  7.2574      52.0  8.288136   1.073446       496.0  2.802260   3.521   \n",
       "3  5.6431      52.0  5.817352   1.073059       558.0  2.547945   3.413   \n",
       "4  3.8462      52.0  6.281853   1.081081       565.0  2.181467   3.422   \n",
       "\n",
       "           County  Road  \n",
       "0  Alameda County  1474  \n",
       "1  Alameda County  3491  \n",
       "2  Alameda County  3472  \n",
       "3  Alameda County  3095  \n",
       "4  Alameda County  3095  "
      ]
     },
     "execution_count": 34,
     "metadata": {},
     "output_type": "execute_result"
    }
   ],
   "source": [
    "df.head()"
   ]
  },
  {
   "cell_type": "markdown",
   "id": "1f26bdd0",
   "metadata": {},
   "source": [
    "##### 2. Predicting County null values "
   ]
  },
  {
   "cell_type": "code",
   "execution_count": 35,
   "id": "aedd7d74",
   "metadata": {},
   "outputs": [],
   "source": [
    "# Applying Logistic Regression to find missing values for County column\n",
    "\n",
    "missing_index = []\n",
    "\n",
    "for i in range(df.shape[0]):\n",
    "    if df[\"County\"][i] is None:\n",
    "        missing_index.append(i)\n",
    "        \n",
    "#independent Variable\n",
    "missing_county_x_train = np.array([ [df[\"MedInc\"][i],df[\"AveRooms\"][i], df[\"AveBedrms\"][i] ] for i in range(df.shape[0]) if i not in missing_index])\n",
    "\n",
    "#Dependent Variable\n",
    "missing_county_y_train = np.array([df[\"County\"][i] for i in range(df.shape[0]) if i not in missing_index])\n",
    "\n",
    "missing_county_x_test = np.array([ [df[\"MedInc\"][i],df[\"AveRooms\"][i], df[\"AveBedrms\"][i] ] for i in range(df.shape[0]) if i in missing_index])        "
   ]
  },
  {
   "cell_type": "code",
   "execution_count": 37,
   "id": "0c084a34",
   "metadata": {},
   "outputs": [],
   "source": [
    "#model Initialization\n",
    "\n",
    "model_2 = sgdc()\n",
    "\n",
    "model_2.fit(missing_county_x_train,missing_county_y_train)\n",
    "\n",
    "missing_county_y_pred = model_2.predict(missing_county_x_test)"
   ]
  },
  {
   "cell_type": "code",
   "execution_count": 38,
   "id": "944312d7",
   "metadata": {},
   "outputs": [
    {
     "name": "stderr",
     "output_type": "stream",
     "text": [
      "<ipython-input-38-c29c3b6bb651>:4: SettingWithCopyWarning: \n",
      "A value is trying to be set on a copy of a slice from a DataFrame\n",
      "\n",
      "See the caveats in the documentation: https://pandas.pydata.org/pandas-docs/stable/user_guide/indexing.html#returning-a-view-versus-a-copy\n",
      "  df[\"County\"][i] = missing_county_y_pred[n]\n"
     ]
    }
   ],
   "source": [
    "# Add the model back to dataframe\n",
    "\n",
    "for n,i in enumerate(missing_index):\n",
    "    df[\"County\"][i] = missing_county_y_pred[n]"
   ]
  },
  {
   "cell_type": "code",
   "execution_count": 39,
   "id": "cfca2825",
   "metadata": {},
   "outputs": [
    {
     "name": "stdout",
     "output_type": "stream",
     "text": [
      "<class 'pandas.core.frame.DataFrame'>\n",
      "RangeIndex: 20640 entries, 0 to 20639\n",
      "Data columns (total 9 columns):\n",
      " #   Column      Non-Null Count  Dtype  \n",
      "---  ------      --------------  -----  \n",
      " 0   MedInc      20640 non-null  float64\n",
      " 1   HouseAge    20640 non-null  float64\n",
      " 2   AveRooms    20640 non-null  float64\n",
      " 3   AveBedrms   20640 non-null  float64\n",
      " 4   Population  20640 non-null  float64\n",
      " 5   AveOccup    20640 non-null  float64\n",
      " 6   Target      20640 non-null  float64\n",
      " 7   County      20640 non-null  object \n",
      " 8   Road        20640 non-null  int32  \n",
      "dtypes: float64(7), int32(1), object(1)\n",
      "memory usage: 1.3+ MB\n"
     ]
    }
   ],
   "source": [
    "# no null values of county and road\n",
    "df.info()"
   ]
  },
  {
   "cell_type": "code",
   "execution_count": 41,
   "id": "611273ba",
   "metadata": {},
   "outputs": [
    {
     "data": {
      "text/html": [
       "<div>\n",
       "<style scoped>\n",
       "    .dataframe tbody tr th:only-of-type {\n",
       "        vertical-align: middle;\n",
       "    }\n",
       "\n",
       "    .dataframe tbody tr th {\n",
       "        vertical-align: top;\n",
       "    }\n",
       "\n",
       "    .dataframe thead th {\n",
       "        text-align: right;\n",
       "    }\n",
       "</style>\n",
       "<table border=\"1\" class=\"dataframe\">\n",
       "  <thead>\n",
       "    <tr style=\"text-align: right;\">\n",
       "      <th></th>\n",
       "      <th>MedInc</th>\n",
       "      <th>HouseAge</th>\n",
       "      <th>AveRooms</th>\n",
       "      <th>AveBedrms</th>\n",
       "      <th>Population</th>\n",
       "      <th>AveOccup</th>\n",
       "      <th>Target</th>\n",
       "      <th>County</th>\n",
       "      <th>Road</th>\n",
       "    </tr>\n",
       "  </thead>\n",
       "  <tbody>\n",
       "    <tr>\n",
       "      <th>0</th>\n",
       "      <td>8.3252</td>\n",
       "      <td>41.0</td>\n",
       "      <td>6.984127</td>\n",
       "      <td>1.023810</td>\n",
       "      <td>322.0</td>\n",
       "      <td>2.555556</td>\n",
       "      <td>4.526</td>\n",
       "      <td>Alameda County</td>\n",
       "      <td>1474</td>\n",
       "    </tr>\n",
       "    <tr>\n",
       "      <th>1</th>\n",
       "      <td>8.3014</td>\n",
       "      <td>21.0</td>\n",
       "      <td>6.238137</td>\n",
       "      <td>0.971880</td>\n",
       "      <td>2401.0</td>\n",
       "      <td>2.109842</td>\n",
       "      <td>3.585</td>\n",
       "      <td>Alameda County</td>\n",
       "      <td>3491</td>\n",
       "    </tr>\n",
       "    <tr>\n",
       "      <th>2</th>\n",
       "      <td>7.2574</td>\n",
       "      <td>52.0</td>\n",
       "      <td>8.288136</td>\n",
       "      <td>1.073446</td>\n",
       "      <td>496.0</td>\n",
       "      <td>2.802260</td>\n",
       "      <td>3.521</td>\n",
       "      <td>Alameda County</td>\n",
       "      <td>3472</td>\n",
       "    </tr>\n",
       "    <tr>\n",
       "      <th>3</th>\n",
       "      <td>5.6431</td>\n",
       "      <td>52.0</td>\n",
       "      <td>5.817352</td>\n",
       "      <td>1.073059</td>\n",
       "      <td>558.0</td>\n",
       "      <td>2.547945</td>\n",
       "      <td>3.413</td>\n",
       "      <td>Alameda County</td>\n",
       "      <td>3095</td>\n",
       "    </tr>\n",
       "    <tr>\n",
       "      <th>4</th>\n",
       "      <td>3.8462</td>\n",
       "      <td>52.0</td>\n",
       "      <td>6.281853</td>\n",
       "      <td>1.081081</td>\n",
       "      <td>565.0</td>\n",
       "      <td>2.181467</td>\n",
       "      <td>3.422</td>\n",
       "      <td>Alameda County</td>\n",
       "      <td>3095</td>\n",
       "    </tr>\n",
       "  </tbody>\n",
       "</table>\n",
       "</div>"
      ],
      "text/plain": [
       "   MedInc  HouseAge  AveRooms  AveBedrms  Population  AveOccup  Target  \\\n",
       "0  8.3252      41.0  6.984127   1.023810       322.0  2.555556   4.526   \n",
       "1  8.3014      21.0  6.238137   0.971880      2401.0  2.109842   3.585   \n",
       "2  7.2574      52.0  8.288136   1.073446       496.0  2.802260   3.521   \n",
       "3  5.6431      52.0  5.817352   1.073059       558.0  2.547945   3.413   \n",
       "4  3.8462      52.0  6.281853   1.081081       565.0  2.181467   3.422   \n",
       "\n",
       "           County  Road  \n",
       "0  Alameda County  1474  \n",
       "1  Alameda County  3491  \n",
       "2  Alameda County  3472  \n",
       "3  Alameda County  3095  \n",
       "4  Alameda County  3095  "
      ]
     },
     "execution_count": 41,
     "metadata": {},
     "output_type": "execute_result"
    }
   ],
   "source": [
    "df.head()"
   ]
  },
  {
   "cell_type": "code",
   "execution_count": 42,
   "id": "b20c683f",
   "metadata": {},
   "outputs": [],
   "source": [
    "df[\"County\"] = le.fit_transform(df[\"County\"])"
   ]
  },
  {
   "cell_type": "code",
   "execution_count": 44,
   "id": "d3154ee5",
   "metadata": {},
   "outputs": [
    {
     "data": {
      "text/html": [
       "<div>\n",
       "<style scoped>\n",
       "    .dataframe tbody tr th:only-of-type {\n",
       "        vertical-align: middle;\n",
       "    }\n",
       "\n",
       "    .dataframe tbody tr th {\n",
       "        vertical-align: top;\n",
       "    }\n",
       "\n",
       "    .dataframe thead th {\n",
       "        text-align: right;\n",
       "    }\n",
       "</style>\n",
       "<table border=\"1\" class=\"dataframe\">\n",
       "  <thead>\n",
       "    <tr style=\"text-align: right;\">\n",
       "      <th></th>\n",
       "      <th>MedInc</th>\n",
       "      <th>HouseAge</th>\n",
       "      <th>AveRooms</th>\n",
       "      <th>AveBedrms</th>\n",
       "      <th>Population</th>\n",
       "      <th>AveOccup</th>\n",
       "      <th>Target</th>\n",
       "      <th>County</th>\n",
       "      <th>Road</th>\n",
       "    </tr>\n",
       "  </thead>\n",
       "  <tbody>\n",
       "    <tr>\n",
       "      <th>16301</th>\n",
       "      <td>5.3224</td>\n",
       "      <td>17.0</td>\n",
       "      <td>6.103634</td>\n",
       "      <td>1.025572</td>\n",
       "      <td>1562.0</td>\n",
       "      <td>2.102288</td>\n",
       "      <td>2.258</td>\n",
       "      <td>40</td>\n",
       "      <td>5589</td>\n",
       "    </tr>\n",
       "    <tr>\n",
       "      <th>17704</th>\n",
       "      <td>5.5145</td>\n",
       "      <td>15.0</td>\n",
       "      <td>5.168385</td>\n",
       "      <td>1.010309</td>\n",
       "      <td>1267.0</td>\n",
       "      <td>4.353952</td>\n",
       "      <td>2.194</td>\n",
       "      <td>44</td>\n",
       "      <td>7700</td>\n",
       "    </tr>\n",
       "    <tr>\n",
       "      <th>13979</th>\n",
       "      <td>0.5360</td>\n",
       "      <td>4.0</td>\n",
       "      <td>14.000000</td>\n",
       "      <td>3.333333</td>\n",
       "      <td>9.0</td>\n",
       "      <td>3.000000</td>\n",
       "      <td>0.425</td>\n",
       "      <td>38</td>\n",
       "      <td>725</td>\n",
       "    </tr>\n",
       "    <tr>\n",
       "      <th>7443</th>\n",
       "      <td>2.6354</td>\n",
       "      <td>40.0</td>\n",
       "      <td>3.352740</td>\n",
       "      <td>1.013699</td>\n",
       "      <td>934.0</td>\n",
       "      <td>3.198630</td>\n",
       "      <td>1.518</td>\n",
       "      <td>20</td>\n",
       "      <td>6852</td>\n",
       "    </tr>\n",
       "    <tr>\n",
       "      <th>926</th>\n",
       "      <td>6.0878</td>\n",
       "      <td>26.0</td>\n",
       "      <td>5.647059</td>\n",
       "      <td>0.901961</td>\n",
       "      <td>1105.0</td>\n",
       "      <td>3.095238</td>\n",
       "      <td>2.469</td>\n",
       "      <td>0</td>\n",
       "      <td>8933</td>\n",
       "    </tr>\n",
       "  </tbody>\n",
       "</table>\n",
       "</div>"
      ],
      "text/plain": [
       "       MedInc  HouseAge   AveRooms  AveBedrms  Population  AveOccup  Target  \\\n",
       "16301  5.3224      17.0   6.103634   1.025572      1562.0  2.102288   2.258   \n",
       "17704  5.5145      15.0   5.168385   1.010309      1267.0  4.353952   2.194   \n",
       "13979  0.5360       4.0  14.000000   3.333333         9.0  3.000000   0.425   \n",
       "7443   2.6354      40.0   3.352740   1.013699       934.0  3.198630   1.518   \n",
       "926    6.0878      26.0   5.647059   0.901961      1105.0  3.095238   2.469   \n",
       "\n",
       "       County  Road  \n",
       "16301      40  5589  \n",
       "17704      44  7700  \n",
       "13979      38   725  \n",
       "7443       20  6852  \n",
       "926         0  8933  "
      ]
     },
     "execution_count": 44,
     "metadata": {},
     "output_type": "execute_result"
    }
   ],
   "source": [
    "df = df.sample(axis = 0, frac =1)\n",
    "df.head()"
   ]
  },
  {
   "cell_type": "markdown",
   "id": "9284e32a",
   "metadata": {},
   "source": [
    "# Understanding which Model to use"
   ]
  },
  {
   "cell_type": "markdown",
   "id": "f90b602f",
   "metadata": {},
   "source": [
    "Target variable is a continous value therefor the best model to use is Regression Model\n",
    "\n",
    "model = random forest"
   ]
  },
  {
   "cell_type": "code",
   "execution_count": 64,
   "id": "2b9cad62",
   "metadata": {},
   "outputs": [],
   "source": [
    "y = df.iloc[:,-3].values\n",
    "\n",
    "df.drop(labels = ['Target'], axis =1,inplace = True)\n",
    "\n",
    "x = df.iloc[:,:].values"
   ]
  },
  {
   "cell_type": "code",
   "execution_count": 80,
   "id": "f12de3e7",
   "metadata": {},
   "outputs": [],
   "source": [
    "from sklearn.model_selection import train_test_split as tts"
   ]
  },
  {
   "cell_type": "code",
   "execution_count": 81,
   "id": "fe3d2d4c",
   "metadata": {},
   "outputs": [],
   "source": [
    "X_train, X_test, Y_train, Y_test = tts(x,y, test_size = 0.20, random_state =42)"
   ]
  },
  {
   "cell_type": "code",
   "execution_count": 82,
   "id": "9fda9999",
   "metadata": {},
   "outputs": [],
   "source": [
    "from sklearn.ensemble import RandomForestRegressor as RFR"
   ]
  },
  {
   "cell_type": "code",
   "execution_count": 83,
   "id": "b711dfcb",
   "metadata": {},
   "outputs": [
    {
     "data": {
      "text/plain": [
       "RandomForestRegressor()"
      ]
     },
     "execution_count": 83,
     "metadata": {},
     "output_type": "execute_result"
    }
   ],
   "source": [
    "model = RFR()\n",
    "\n",
    "model.fit(X_train,Y_train)\n"
   ]
  },
  {
   "cell_type": "code",
   "execution_count": 84,
   "id": "6184f46e",
   "metadata": {},
   "outputs": [],
   "source": [
    "# Model Prediction\n",
    "\n",
    "y_pred = model.predict(X_test)"
   ]
  },
  {
   "cell_type": "code",
   "execution_count": 85,
   "id": "4439acfe",
   "metadata": {},
   "outputs": [],
   "source": [
    "# model Accuracy\n",
    "\n",
    "from sklearn.metrics import r2_score"
   ]
  },
  {
   "cell_type": "code",
   "execution_count": 86,
   "id": "ac3b5e2a",
   "metadata": {},
   "outputs": [
    {
     "data": {
      "text/plain": [
       "75.7299399477611"
      ]
     },
     "execution_count": 86,
     "metadata": {},
     "output_type": "execute_result"
    }
   ],
   "source": [
    "r2_score(Y_test,y_pred)*100"
   ]
  },
  {
   "cell_type": "markdown",
   "id": "9525069d",
   "metadata": {},
   "source": [
    "# ADD our own data"
   ]
  },
  {
   "cell_type": "code",
   "execution_count": 87,
   "id": "ffff6de5",
   "metadata": {},
   "outputs": [],
   "source": [
    "inp = np.array([5.3224,17.0,6.103634,1.025572,1562.0,2.102288,40,5589])"
   ]
  },
  {
   "cell_type": "code",
   "execution_count": 90,
   "id": "745dd255",
   "metadata": {},
   "outputs": [],
   "source": [
    "inp.shape\n",
    "\n",
    "inp = inp.reshape(1,-1)"
   ]
  },
  {
   "cell_type": "code",
   "execution_count": 91,
   "id": "b2e8ca80",
   "metadata": {},
   "outputs": [
    {
     "data": {
      "text/plain": [
       "array([2.42832])"
      ]
     },
     "execution_count": 91,
     "metadata": {},
     "output_type": "execute_result"
    }
   ],
   "source": [
    "model.predict(inp)"
   ]
  },
  {
   "cell_type": "code",
   "execution_count": null,
   "id": "0d11bd64",
   "metadata": {},
   "outputs": [],
   "source": []
  }
 ],
 "metadata": {
  "kernelspec": {
   "display_name": "Python 3",
   "language": "python",
   "name": "python3"
  },
  "language_info": {
   "codemirror_mode": {
    "name": "ipython",
    "version": 3
   },
   "file_extension": ".py",
   "mimetype": "text/x-python",
   "name": "python",
   "nbconvert_exporter": "python",
   "pygments_lexer": "ipython3",
   "version": "3.8.8"
  }
 },
 "nbformat": 4,
 "nbformat_minor": 5
}
